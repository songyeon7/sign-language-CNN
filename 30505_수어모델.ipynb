{
  "nbformat": 4,
  "nbformat_minor": 0,
  "metadata": {
    "colab": {
      "provenance": []
    },
    "kernelspec": {
      "name": "python3",
      "display_name": "Python 3"
    },
    "language_info": {
      "name": "python"
    }
  },
  "cells": [
    {
      "cell_type": "code",
      "execution_count": 1,
      "metadata": {
        "id": "qcsEJ5C0ZCMY"
      },
      "outputs": [],
      "source": [
        "import pandas as pd\n",
        "import numpy as np\n",
        "import random\n",
        "import matplotlib.pyplot as plt\n",
        "from tensorflow.keras.utils import to_categorical\n",
        "from sklearn.model_selection import train_test_split"
      ]
    },
    {
      "cell_type": "code",
      "source": [
        "from google.colab import drive\n",
        "drive.mount('/content/drive')"
      ],
      "metadata": {
        "colab": {
          "base_uri": "https://localhost:8080/"
        },
        "id": "n3_PNovAgdNz",
        "outputId": "aa80347f-269d-4ce2-bd48-287ab5f4fea3"
      },
      "execution_count": 3,
      "outputs": [
        {
          "output_type": "stream",
          "name": "stdout",
          "text": [
            "Mounted at /content/drive\n"
          ]
        }
      ]
    },
    {
      "cell_type": "code",
      "source": [
        "train = pd.read_csv('/content/drive/MyDrive/인공지능과미래사회/archive (3)/sign_mnist_train/sign_mnist_train.csv')\n",
        "test = pd.read_csv('/content/drive/MyDrive/인공지능과미래사회/archive (3)/sign_mnist_test/sign_mnist_test.csv')"
      ],
      "metadata": {
        "id": "p6BzRDqsZKP6"
      },
      "execution_count": 4,
      "outputs": []
    },
    {
      "cell_type": "code",
      "source": [
        "class_names = ['A', 'B', 'C', 'D', 'E', 'F', 'G', 'H', 'I', 'J', 'K', 'L', 'M', 'N', 'O', 'P', 'Q', 'R', 'S', 'T', 'U', 'V', 'W', 'X', 'Y' ]"
      ],
      "metadata": {
        "id": "81dXRBpxiF-E"
      },
      "execution_count": 20,
      "outputs": []
    },
    {
      "cell_type": "code",
      "source": [
        "X_train = train.iloc[:, 1:].values\n",
        "y_train = train.iloc[:, 0].values\n",
        "X_test = test.iloc[:, 1:].values\n",
        "y_test = test.iloc[:, 0].values"
      ],
      "metadata": {
        "id": "E2FT7al8ZMgx"
      },
      "execution_count": 21,
      "outputs": []
    },
    {
      "cell_type": "code",
      "source": [
        "X_train = X_train / 255.0\n",
        "X_test = X_test / 255.0"
      ],
      "metadata": {
        "id": "plNKlzEwZ2g9"
      },
      "execution_count": 22,
      "outputs": []
    },
    {
      "cell_type": "code",
      "source": [
        "X_train = X_train.reshape(-1, 28, 28, 1)\n",
        "X_test = X_test.reshape(-1, 28, 28, 1)"
      ],
      "metadata": {
        "id": "lkEgDF1NZ4Ct"
      },
      "execution_count": 7,
      "outputs": []
    },
    {
      "cell_type": "code",
      "source": [
        "y_train = to_categorical(y_train, num_classes=25)\n",
        "y_test = to_categorical(y_test, num_classes=25)"
      ],
      "metadata": {
        "id": "JfvhtezOZ6u0"
      },
      "execution_count": 8,
      "outputs": []
    },
    {
      "cell_type": "code",
      "source": [
        "X_train, X_val, y_train, y_val = train_test_split(X_train, y_train, test_size=0.2, random_state=42)"
      ],
      "metadata": {
        "id": "6h9LAs8aZ9xu"
      },
      "execution_count": 9,
      "outputs": []
    },
    {
      "cell_type": "code",
      "source": [
        "import tensorflow as tf\n",
        "from tensorflow.keras.models import Sequential\n",
        "from tensorflow.keras.layers import Conv2D, MaxPooling2D, Flatten, Dense, Dropout"
      ],
      "metadata": {
        "id": "xMwHt1P-aAG5"
      },
      "execution_count": 10,
      "outputs": []
    },
    {
      "cell_type": "code",
      "source": [
        "model = Sequential([\n",
        "    Conv2D(32, (3, 3), activation='relu', input_shape=(28, 28, 1)),\n",
        "    MaxPooling2D((2, 2)),\n",
        "    Dropout(0.25),\n",
        "\n",
        "    Conv2D(64, (3, 3), activation='relu'),\n",
        "    MaxPooling2D((2, 2)),\n",
        "    Dropout(0.25),\n",
        "\n",
        "    Flatten(),\n",
        "    Dense(128, activation='relu'),\n",
        "    Dropout(0.5),\n",
        "    Dense(25, activation='softmax')\n",
        "])"
      ],
      "metadata": {
        "id": "q1r3dRuAaeFV"
      },
      "execution_count": 11,
      "outputs": []
    },
    {
      "cell_type": "code",
      "source": [
        "model.compile(optimizer='adam', loss='categorical_crossentropy', metrics=['accuracy'])"
      ],
      "metadata": {
        "id": "Rt4zuY7zahNj"
      },
      "execution_count": 12,
      "outputs": []
    },
    {
      "cell_type": "code",
      "source": [
        "history = model.fit(X_train, y_train, epochs=10, validation_data=(X_val, y_val), batch_size=64)"
      ],
      "metadata": {
        "colab": {
          "base_uri": "https://localhost:8080/"
        },
        "id": "wQBLRpGZakDX",
        "outputId": "574eb40f-a434-4888-c7f9-be59e1155430"
      },
      "execution_count": 13,
      "outputs": [
        {
          "output_type": "stream",
          "name": "stdout",
          "text": [
            "Epoch 1/10\n",
            "344/344 [==============================] - 23s 61ms/step - loss: 2.3008 - accuracy: 0.2941 - val_loss: 0.9152 - val_accuracy: 0.7538\n",
            "Epoch 2/10\n",
            "344/344 [==============================] - 18s 53ms/step - loss: 0.9140 - accuracy: 0.6963 - val_loss: 0.3388 - val_accuracy: 0.9272\n",
            "Epoch 3/10\n",
            "344/344 [==============================] - 20s 58ms/step - loss: 0.5507 - accuracy: 0.8145 - val_loss: 0.1764 - val_accuracy: 0.9718\n",
            "Epoch 4/10\n",
            "344/344 [==============================] - 35s 103ms/step - loss: 0.3847 - accuracy: 0.8656 - val_loss: 0.0884 - val_accuracy: 0.9869\n",
            "Epoch 5/10\n",
            "344/344 [==============================] - 18s 54ms/step - loss: 0.2883 - accuracy: 0.9004 - val_loss: 0.0448 - val_accuracy: 0.9989\n",
            "Epoch 6/10\n",
            "344/344 [==============================] - 20s 58ms/step - loss: 0.2295 - accuracy: 0.9220 - val_loss: 0.0281 - val_accuracy: 0.9998\n",
            "Epoch 7/10\n",
            "344/344 [==============================] - 23s 66ms/step - loss: 0.1865 - accuracy: 0.9358 - val_loss: 0.0180 - val_accuracy: 0.9996\n",
            "Epoch 8/10\n",
            "344/344 [==============================] - 18s 53ms/step - loss: 0.1607 - accuracy: 0.9463 - val_loss: 0.0098 - val_accuracy: 1.0000\n",
            "Epoch 9/10\n",
            "344/344 [==============================] - 23s 66ms/step - loss: 0.1343 - accuracy: 0.9532 - val_loss: 0.0082 - val_accuracy: 0.9998\n",
            "Epoch 10/10\n",
            "344/344 [==============================] - 24s 70ms/step - loss: 0.1166 - accuracy: 0.9614 - val_loss: 0.0056 - val_accuracy: 1.0000\n"
          ]
        }
      ]
    },
    {
      "cell_type": "code",
      "source": [
        "test_loss, test_acc = model.evaluate(X_test, y_test)\n",
        "print(f\"Test accuracy: {test_acc}\")"
      ],
      "metadata": {
        "colab": {
          "base_uri": "https://localhost:8080/"
        },
        "id": "pLNI309VamHR",
        "outputId": "a723575f-9d7a-4158-b5ab-f5acc04aa546"
      },
      "execution_count": 14,
      "outputs": [
        {
          "output_type": "stream",
          "name": "stdout",
          "text": [
            "225/225 [==============================] - 3s 11ms/step - loss: 0.1556 - accuracy: 0.9564\n",
            "Test accuracy: 0.9563580751419067\n"
          ]
        }
      ]
    },
    {
      "cell_type": "code",
      "source": [
        "model.save('/content/drive/MyDrive/인공지능과미래사회/sign_mnist_model04.h5')"
      ],
      "metadata": {
        "colab": {
          "base_uri": "https://localhost:8080/"
        },
        "id": "AzJtrkq9b2XH",
        "outputId": "ed87946a-04a0-4379-d113-97333093ff83"
      },
      "execution_count": 15,
      "outputs": [
        {
          "output_type": "stream",
          "name": "stderr",
          "text": [
            "/usr/local/lib/python3.10/dist-packages/keras/src/engine/training.py:3103: UserWarning: You are saving your model as an HDF5 file via `model.save()`. This file format is considered legacy. We recommend using instead the native Keras format, e.g. `model.save('my_model.keras')`.\n",
            "  saving_api.save_model(\n"
          ]
        }
      ]
    },
    {
      "cell_type": "code",
      "source": [
        "plt.plot(history.history['accuracy'], label='accuracy')\n",
        "plt.plot(history.history['val_accuracy'], label = 'val_accuracy')\n",
        "plt.xlabel('Epoch')\n",
        "plt.ylabel('Accuracy')\n",
        "plt.ylim([0, 1])\n",
        "plt.legend(loc='lower right')\n",
        "plt.show()"
      ],
      "metadata": {
        "id": "gPfwnasIcslc",
        "colab": {
          "base_uri": "https://localhost:8080/",
          "height": 455
        },
        "outputId": "71b3330b-28cd-4a67-a9f8-b16032008fb6"
      },
      "execution_count": 18,
      "outputs": [
        {
          "output_type": "display_data",
          "data": {
            "text/plain": [
              "<Figure size 640x480 with 1 Axes>"
            ],
            "image/png": "[encoded data removed]"
          },
          "metadata": {}
        }
      ]
    },
    {
      "cell_type": "code",
      "source": [
        "i = random.randint(1, X_test.shape[0] - 1)\n",
        "plt.imshow(X_test[i].reshape((28, 28)), cmap='gray')\n",
        "label_index = np.argmax(y_test[i])\n",
        "plt.title(f\"Predicted: {class_names[label_index]}\")\n",
        "plt.axis('off')\n",
        "plt.show()"
      ],
      "metadata": {
        "colab": {
          "base_uri": "https://localhost:8080/",
          "height": 428
        },
        "id": "w0kXRSHrhGyQ",
        "outputId": "978def3c-cc5a-4800-b6b8-34c4ae539a59"
      },
      "execution_count": 23,
      "outputs": [
        {
          "output_type": "display_data",
          "data": {
            "text/plain": [
              "<Figure size 640x480 with 1 Axes>"
            ],
            "image/png": "[encoded data removed]"
          },
          "metadata": {}
        }
      ]
    },
    {
      "cell_type": "code",
      "source": [],
      "metadata": {
        "id": "JRH9NwhEiN14"
      },
      "execution_count": null,
      "outputs": []
    }
  ]
}